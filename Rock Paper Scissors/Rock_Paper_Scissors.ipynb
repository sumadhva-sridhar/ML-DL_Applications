{
  "nbformat": 4,
  "nbformat_minor": 0,
  "metadata": {
    "colab": {
      "name": "Rock Paper Scissors",
      "provenance": [],
      "collapsed_sections": []
    },
    "kernelspec": {
      "name": "python3",
      "display_name": "Python 3"
    },
    "accelerator": "GPU"
  },
  "cells": [
    {
      "cell_type": "markdown",
      "metadata": {
        "id": "rMIvqpXPdWRW",
        "colab_type": "text"
      },
      "source": [
        "###Import the required libraries"
      ]
    },
    {
      "cell_type": "code",
      "metadata": {
        "id": "HZ4Gx4Ck7X2Y",
        "colab_type": "code",
        "colab": {}
      },
      "source": [
        "\n",
        "import numpy as np\n",
        "import matplotlib.pyplot as plt\n",
        "import tensorflow as tf\n",
        "import tensorflow.keras as keras\n",
        "from tensorflow.keras import layers\n",
        "from tensorflow.keras import Model\n",
        "import os\n",
        "import zipfile\n"
      ],
      "execution_count": 0,
      "outputs": []
    },
    {
      "cell_type": "markdown",
      "metadata": {
        "id": "uvXJVufCeO6t",
        "colab_type": "text"
      },
      "source": [
        "###Retrieve the required dataset"
      ]
    },
    {
      "cell_type": "code",
      "metadata": {
        "id": "MfJ33Xst7fWL",
        "colab_type": "code",
        "colab": {}
      },
      "source": [
        "\n",
        "# Download the training set\n",
        "!wget --no-check-certificate \\\n",
        "    https://storage.googleapis.com/laurencemoroney-blog.appspot.com/rps.zip \\\n",
        "    -O /tmp/rps.zip\n",
        "  \n",
        "# Download the test set\n",
        "!wget --no-check-certificate \\\n",
        "    https://storage.googleapis.com/laurencemoroney-blog.appspot.com/rps-test-set.zip \\\n",
        "    -O /tmp/rps-test-set.zip\n",
        "\n",
        "# Unzip the training set\n",
        "local_zip = '/tmp/rps.zip'\n",
        "zip_ref = zipfile.ZipFile(local_zip, 'r')\n",
        "zip_ref.extractall('/tmp/')\n",
        "zip_ref.close()\n",
        "\n",
        "# Unzip the test set\n",
        "local_zip = '/tmp/rps-test-set.zip'\n",
        "zip_ref = zipfile.ZipFile(local_zip, 'r')\n",
        "zip_ref.extractall('/tmp/')\n",
        "zip_ref.close()\n",
        "\n",
        "# Create the dataset directories\n",
        "rock_dir = os.path.join('/tmp/rps/rock')\n",
        "paper_dir = os.path.join('/tmp/rps/paper')\n",
        "scissors_dir = os.path.join('/tmp/rps/scissors')\n",
        "\n",
        "# Print the size of the dataset\n",
        "print('total training rock images:', len(os.listdir(rock_dir)))\n",
        "print('total training paper images:', len(os.listdir(paper_dir)))\n",
        "print('total training scissors images:', len(os.listdir(scissors_dir)))\n"
      ],
      "execution_count": 0,
      "outputs": []
    },
    {
      "cell_type": "markdown",
      "metadata": {
        "id": "cYbXW8CmekdK",
        "colab_type": "text"
      },
      "source": [
        "###Pre-process and augment the data"
      ]
    },
    {
      "cell_type": "code",
      "metadata": {
        "id": "432fuqA-aRN_",
        "colab_type": "code",
        "colab": {
          "base_uri": "https://localhost:8080/",
          "height": 52
        },
        "outputId": "1a8e5bd5-7ba7-462c-a643-29d2f5d82d49"
      },
      "source": [
        "\n",
        "from keras_preprocessing.image import ImageDataGenerator\n",
        "\n",
        "# Pre-process and augment the training set\n",
        "TRAINING_DIR = \"/tmp/rps/\"\n",
        "training_datagen = ImageDataGenerator(rescale = 1./255,\n",
        "\t                                    rotation_range = 40,\n",
        "                                      width_shift_range = 0.2,\n",
        "                                      height_shift_range = 0.2,\n",
        "                                      shear_range = 0.2,\n",
        "                                      zoom_range = 0.2,\n",
        "                                      horizontal_flip = True,\n",
        "                                      fill_mode = 'nearest')\n",
        "train_generator = training_datagen.flow_from_directory(TRAINING_DIR,\n",
        "                                                       target_size = (150,150),\n",
        "                                                       class_mode = 'categorical',\n",
        "                                                       batch_size = 20)\n",
        "\n",
        "# Pre-process the test set\n",
        "VALIDATION_DIR = \"/tmp/rps-test-set/\"\n",
        "validation_datagen = ImageDataGenerator(rescale = 1./255)\n",
        "validation_generator = validation_datagen.flow_from_directory(VALIDATION_DIR,\n",
        "                                                              target_size = (150,150),\n",
        "                                                              class_mode = 'categorical',\n",
        "                                                              batch_size = 10)\n"
      ],
      "execution_count": 5,
      "outputs": [
        {
          "output_type": "stream",
          "text": [
            "Found 2520 images belonging to 3 classes.\n",
            "Found 372 images belonging to 3 classes.\n"
          ],
          "name": "stdout"
        }
      ]
    },
    {
      "cell_type": "markdown",
      "metadata": {
        "id": "IqYESfmtfXAD",
        "colab_type": "text"
      },
      "source": [
        "###Define the model"
      ]
    },
    {
      "cell_type": "code",
      "metadata": {
        "id": "oGNNhkGpaWON",
        "colab_type": "code",
        "colab": {}
      },
      "source": [
        "\n",
        "# Define the layers for the model\n",
        "rps_model = tf.keras.models.Sequential ([\n",
        "    tf.keras.layers.Conv2D(32, (3,3), activation = 'relu', input_shape = (150, 150, 3), name = 'Conv1'),\n",
        "    tf.keras.layers.BatchNormalization(),\n",
        "    tf.keras.layers.MaxPooling2D((2, 2), name = 'Pool1'),\n",
        "    tf.keras.layers.Conv2D(64, (3,3), activation = 'relu', name = 'Conv2'),\n",
        "    tf.keras.layers.BatchNormalization(),\n",
        "    tf.keras.layers.MaxPooling2D((2,2), name = 'Pool2'),\n",
        "    tf.keras.layers.Conv2D(128, (3,3), activation = 'relu', name = 'Conv3'),\n",
        "    tf.keras.layers.BatchNormalization(),\n",
        "    tf.keras.layers.MaxPooling2D((2,2), name = 'Pool3'),\n",
        "    tf.keras.layers.Conv2D(128, (3,3), activation = 'relu', name = 'Conv4'),\n",
        "    tf.keras.layers.BatchNormalization(),\n",
        "    tf.keras.layers.MaxPooling2D((2,2), name = 'Pool4'),\n",
        "    tf.keras.layers.Flatten(),\n",
        "    tf.keras.layers.Dense(512, activation = 'relu', name = 'Dense5'),\n",
        "    tf.keras.layers.BatchNormalization(),\n",
        "    tf.keras.layers.Dense(3, activation = 'softmax', name = 'Output6')\n",
        "])\n",
        "\n",
        "# Define the optimizer and loss function for the model\n",
        "rps_model.compile(loss = 'categorical_crossentropy',\n",
        "                  optimizer='rmsprop',\n",
        "                  metrics=['accuracy'])\n"
      ],
      "execution_count": 0,
      "outputs": []
    },
    {
      "cell_type": "markdown",
      "metadata": {
        "id": "DaHwSQ8Yf64W",
        "colab_type": "text"
      },
      "source": [
        "###Train the model"
      ]
    },
    {
      "cell_type": "code",
      "metadata": {
        "id": "pvzi-k6IacsT",
        "colab_type": "code",
        "colab": {}
      },
      "source": [
        "\n",
        "# Fit the model and store the intermediate outputs\n",
        "history = rps_model.fit(train_generator,\n",
        "                        epochs = 25, \n",
        "                        steps_per_epoch = 126, \n",
        "                        validation_data = validation_generator, \n",
        "                        validation_steps = 38,\n",
        "                        verbose = 1)\n"
      ],
      "execution_count": 0,
      "outputs": []
    },
    {
      "cell_type": "markdown",
      "metadata": {
        "id": "TcnKQG7VhJLx",
        "colab_type": "text"
      },
      "source": [
        "###Plot the loss and accuracy of the model w.r.t the number of epochs"
      ]
    },
    {
      "cell_type": "code",
      "metadata": {
        "id": "g_rGvD41ajJc",
        "colab_type": "code",
        "colab": {}
      },
      "source": [
        "\n",
        "# Retrieve a list of results on training and test datasets for each training epoch\n",
        "acc      = history.history['accuracy']\n",
        "val_acc  = history.history['val_accuracy']\n",
        "loss     = history.history['loss']\n",
        "val_loss = history.history['val_loss']\n",
        "\n",
        "# Get the total number of epochs\n",
        "epochs   = range(len(acc))\n",
        "\n",
        "# Plot training and validation accuracy per epoch\n",
        "plt.plot  (epochs, acc)\n",
        "plt.plot  (epochs, val_acc)\n",
        "plt.title ('Training and validation accuracy', color = \"white\")\n",
        "plt.figure()\n",
        "\n",
        "# Plot training and validation loss per epoch\n",
        "plt.plot  (epochs, loss)\n",
        "plt.plot  (epochs, val_loss)\n",
        "plt.title ('Training and validation loss', color = \"white\")\n"
      ],
      "execution_count": 0,
      "outputs": []
    },
    {
      "cell_type": "markdown",
      "metadata": {
        "id": "28-rMUFrhZvF",
        "colab_type": "text"
      },
      "source": [
        "###Get a summary of the model"
      ]
    },
    {
      "cell_type": "code",
      "metadata": {
        "id": "m4RmUAulhccp",
        "colab_type": "code",
        "colab": {}
      },
      "source": [
        "\n",
        "# Print the summary of the model\n",
        "rps_model.summary()\n"
      ],
      "execution_count": 0,
      "outputs": []
    }
  ]
}