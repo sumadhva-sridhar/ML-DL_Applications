{
  "nbformat": 4,
  "nbformat_minor": 0,
  "metadata": {
    "colab": {
      "name": "Handwritten Digits - MNIST",
      "provenance": [],
      "collapsed_sections": []
    },
    "kernelspec": {
      "name": "python3",
      "display_name": "Python 3"
    }
  },
  "cells": [
    {
      "cell_type": "markdown",
      "metadata": {
        "id": "4c9hJH-SHMP5",
        "colab_type": "text"
      },
      "source": [
        "##Keras MNIST dataset"
      ]
    },
    {
      "cell_type": "markdown",
      "metadata": {
        "id": "a9adAzuXHbfh",
        "colab_type": "text"
      },
      "source": [
        "###Import the required libraries"
      ]
    },
    {
      "cell_type": "code",
      "metadata": {
        "id": "Wx29V3OQh2op",
        "colab_type": "code",
        "colab": {}
      },
      "source": [
        "\n",
        "import numpy as np\n",
        "import matplotlib.pyplot as plt\n",
        "import tensorflow as tf\n",
        "import tensorflow.keras as keras\n"
      ],
      "execution_count": 0,
      "outputs": []
    },
    {
      "cell_type": "markdown",
      "metadata": {
        "id": "zUjRs_Z_HtsD",
        "colab_type": "text"
      },
      "source": [
        "###Download the dataset and perform pre-processing"
      ]
    },
    {
      "cell_type": "code",
      "metadata": {
        "id": "a81Q8I4QYjAP",
        "colab_type": "code",
        "colab": {}
      },
      "source": [
        "\n",
        "# Download the dataset\n",
        "import tensorflow.keras.datasets.mnist as digits\n",
        "(training_images, training_labels), (test_images, test_labels) = digits.load_data()\n",
        "\n",
        "# Pre-process the dataset\n",
        "training_images = training_images.reshape(60000, 28, 28, 1)\n",
        "training_images = training_images / 255\n",
        "test_images = test_images.reshape(10000, 28, 28, 1)\n",
        "test_images = test_images / 255\n"
      ],
      "execution_count": 0,
      "outputs": []
    },
    {
      "cell_type": "markdown",
      "metadata": {
        "id": "TKw_kV8WH7-T",
        "colab_type": "text"
      },
      "source": [
        "###Define the callback"
      ]
    },
    {
      "cell_type": "code",
      "metadata": {
        "id": "09h3Ozn0Y_ll",
        "colab_type": "code",
        "colab": {}
      },
      "source": [
        "\n",
        "# Callback to stop training when accuracy reaches 99.8%\n",
        "class myCallback_digits(keras.callbacks.Callback):\n",
        "  def on_epoch_end(self, epoch, logs={}):\n",
        "    if(logs.get('accuracy')>0.998):\n",
        "      print(\"\\nReached 99.8% accuracy so cancelling training!\")\n",
        "      self.model.stop_training = True\n",
        "\n",
        "callbacks = myCallback_digits()\n"
      ],
      "execution_count": 0,
      "outputs": []
    },
    {
      "cell_type": "markdown",
      "metadata": {
        "id": "Zk_d9eY1H_dY",
        "colab_type": "text"
      },
      "source": [
        "###Define the model"
      ]
    },
    {
      "cell_type": "code",
      "metadata": {
        "id": "GaTLGXUkZFl8",
        "colab_type": "code",
        "colab": {}
      },
      "source": [
        "\n",
        "# Define the layers of the model\n",
        "digits_model = keras.Sequential ([ \n"
        "   keras.layers.Conv2D(32, (3,3), input_shape = (28, 28, 1), name = 'Conv1'), \n",
        "   keras.layers.MaxPool2D((2,2), name = 'Pool1'), \n",
        "   keras.layers.Conv2D(64, (3,3), name = 'Conv2'), \n",
        "   keras.layers.MaxPool2D((2,2), name = 'Pool2'), \n",
        "   keras.layers.Flatten(),\n",
        "   keras.layers.Dense(512, activation = 'relu', name = 'Dense3'),\n",
        "   keras.layers.Dense(10, activation = 'softmax', name = 'Output4') \n",
        "])\n",
        "\n",
        "# Define the optimizer and loss function for the model\n",
        "digits_model.compile(optimizer = 'Adam', \n",
        "                     loss = 'sparse_categorical_crossentropy', \n",
        "                     metrics = ['accuracy'])\n"
      ],
      "execution_count": 0,
      "outputs": []
    },
    {
      "cell_type": "markdown",
      "metadata": {
        "id": "ix5xL2RGIBai",
        "colab_type": "text"
      },
      "source": [
        "###Train the model"
      ]
    },
    {
      "cell_type": "code",
      "metadata": {
        "id": "BGkcEcLGIFtE",
        "colab_type": "code",
        "colab": {}
      },
      "source": [
        "\n",
        "# Fit the model\n",
        "digits_model.fit(training_images,\n",
        "                 training_labels,\n",
        "                 epochs = 20,\n",
        "                 callbacks = [callbacks])\n"
      ],
      "execution_count": 0,
      "outputs": []
    },
    {
      "cell_type": "markdown",
      "metadata": {
        "id": "K7LsDj8WIVz9",
        "colab_type": "text"
      },
      "source": [
        "###Test the model"
      ]
    },
    {
      "cell_type": "code",
      "metadata": {
        "id": "VAb9jBN4aAqk",
        "colab_type": "code",
        "colab": {}
      },
      "source": [
        "\n",
        "# Test the model on the test set\n",
        "digits_model.evaluate(test_images, test_labels)\n"
      ],
      "execution_count": 0,
      "outputs": []
    },
    {
      "cell_type": "markdown",
      "metadata": {
        "id": "Ia6funGHIeMz",
        "colab_type": "text"
      },
      "source": [
        "###Get a summary of the model"
      ]
    },
    {
      "cell_type": "code",
      "metadata": {
        "id": "QkR6ntdb22rf",
        "colab_type": "code",
        "colab": {}
      },
      "source": [
        "\n",
        "digits_model.summary()\n"
      ],
      "execution_count": 0,
      "outputs": []
    }
  ]
}
