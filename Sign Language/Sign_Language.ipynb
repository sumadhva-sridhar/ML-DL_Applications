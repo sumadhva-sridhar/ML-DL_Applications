{
  "nbformat": 4,
  "nbformat_minor": 0,
  "metadata": {
    "colab": {
      "name": "Sign Language",
      "provenance": [],
      "collapsed_sections": []
    },
    "kernelspec": {
      "name": "python3",
      "display_name": "Python 3"
    },
    "accelerator": "GPU"
  },
  "cells": [
    {
      "cell_type": "markdown",
      "metadata": {
        "id": "FN9blWG4rvF5",
        "colab_type": "text"
      },
      "source": [
        "###Import the required libraries"
      ]
    },
    {
      "cell_type": "code",
      "metadata": {
        "id": "UlEcPVAKrhbm",
        "colab_type": "code",
        "colab": {}
      },
      "source": [
        "\n",
        "import numpy as np\n",
        "import matplotlib.pyplot as plt\n",
        "import tensorflow as tf\n",
        "import tensorflow.keras as keras\n",
        "import os\n",
        "import zipfile\n",
        "import random\n",
        "import shutil\n",
        "from shutil import copyfile\n",
        "import csv\n"
      ],
      "execution_count": 0,
      "outputs": []
    },
    {
      "cell_type": "markdown",
      "metadata": {
        "id": "VJAEonVMKBty",
        "colab_type": "text"
      },
      "source": [
        "###Retrieve the required dataset"
      ]
    },
    {
      "cell_type": "code",
      "metadata": {
        "id": "dFEGRrkbKJeJ",
        "colab_type": "code",
        "colab": {}
      },
      "source": [
        "\n",
        "from keras_preprocessing.image import ImageDataGenerator\n",
        "\n",
        "# Function to read data from the csv files\n",
        "def get_data(filename):\n",
        "    with open(filename) as training_file:\n",
        "        image = []\n",
        "        label = []\n",
        "        stat = 0\n",
        "        for row in csv.reader(training_file):\n",
        "            if stat == 0:\n",
        "                stat = 1\n",
        "            else:\n",
        "                label.append(float(row[0]))\n",
        "                a = np.reshape(np.array(row[1:785]).astype(float), (28, 28))\n",
        "                image.append(a)\n",
        "        labels = np.array(label)\n",
        "        images = np.array(image)\n",
        "    return images, labels\n",
        "\n",
        "# Define the paths to the datasets\n",
        "path_sign_mnist_train = \"sign_mnist_train.csv\"\n",
        "path_sign_mnist_test = \"sign_mnist_test.csv\"\n",
        "training_images, training_labels = get_data(path_sign_mnist_train)\n",
        "testing_images, testing_labels = get_data(path_sign_mnist_test)\n",
        "\n",
        "# Print the size of the dataset\n",
        "print(training_images.shape)\n",
        "print(training_labels.shape)\n",
        "print(testing_images.shape)\n",
        "print(testing_labels.shape)\n",
        "\n",
        "# Expected Output:\n",
        "# (27455, 28, 28)\n",
        "# (27455,)\n",
        "# (7172, 28, 28)\n",
        "# (7172,)\n"
      ],
      "execution_count": 0,
      "outputs": []
    },
    {
      "cell_type": "markdown",
      "metadata": {
        "id": "BtEJGsw6L2uD",
        "colab_type": "text"
      },
      "source": [
        "###Pre-process and augment the data"
      ]
    },
    {
      "cell_type": "code",
      "metadata": {
        "id": "dchUcAaQL9Io",
        "colab_type": "code",
        "colab": {}
      },
      "source": [
        "\n",
        "# Adding an extra dimension to the datasets\n",
        "training_images = np.expand_dims(training_images, axis = 3)\n",
        "testing_images = np.expand_dims(testing_images, axis = 3)\n",
        "\n",
        "# Converting the data to categorical data, to use the \"categorical_crossentropy\" loss function\n",
        "from tensorflow.keras.utils import to_categorical\n",
        "training_lab = to_categorical(training_labels)\n",
        "testing_lab = to_categorical(testing_labels)\n",
        "\n",
        "# Pre-process and augment the training data\n",
        "train_datagen = ImageDataGenerator(rescale = 1./255,\n",
        "\t                                 rotation_range = 40,\n",
        "                                   width_shift_range = 0.2,\n",
        "                                   height_shift_range = 0.2,\n",
        "                                   shear_range = 0.2,\n",
        "                                   zoom_range = 0.2,\n",
        "                                   horizontal_flip = True,\n",
        "                                   fill_mode = 'nearest')\n",
        "train_generator = train_datagen.flow(training_images,\n",
        "                                     training_lab,\n",
        "                                     batch_size = 50)\n",
        "\n",
        "# Pre-process the test data\n",
        "validation_datagen = ImageDataGenerator(rescale = 1./255)\n",
        "validation_generator = validation_datagen.flow(testing_images,\n",
        "                                               testing_lab,\n",
        "                                               batch_size = 50)\n",
        "\n",
        "# Print the size of the dataset\n",
        "print(training_images.shape)\n",
        "print(testing_images.shape)\n",
        "    \n",
        "# Expected Output:\n",
        "# (27455, 28, 28, 1)\n",
        "# (7172, 28, 28, 1)\n"
      ],
      "execution_count": 0,
      "outputs": []
    },
    {
      "cell_type": "markdown",
      "metadata": {
        "id": "8_CnU2SjM5Et",
        "colab_type": "text"
      },
      "source": [
        "###Define the model"
      ]
    },
    {
      "cell_type": "code",
      "metadata": {
        "id": "ABu89fshM-Cf",
        "colab_type": "code",
        "colab": {}
      },
      "source": [
        "\n",
        "# Define the layers for the model\n",
        "sl_model = tf.keras.models.Sequential ([\n",
        "    tf.keras.layers.Conv2D(64, (3,3), activation = 'relu', input_shape = (28, 28, 1), name = 'Conv1'),\n",
        "    tf.keras.layers.BatchNormalization(),\n",
        "    tf.keras.layers.MaxPooling2D((2, 2), name = 'Pool1'),\n",
        "    tf.keras.layers.Conv2D(64, (3,3), activation = 'relu', name = 'Conv2'),\n",
        "    tf.keras.layers.BatchNormalization(),\n",
        "    tf.keras.layers.MaxPooling2D((2,2), name = 'Pool2'),\n",
        "    tf.keras.layers.Conv2D(128, (3,3), activation = 'relu', name = 'Conv3'),\n",
        "    tf.keras.layers.BatchNormalization(),\n",
        "    tf.keras.layers.MaxPooling2D((2,2), name = 'Pool3'),\n",
        "    tf.keras.layers.Flatten(),\n",
        "    tf.keras.layers.Dense(512, activation = 'relu', name = 'Dense4'),\n",
        "    tf.keras.layers.BatchNormalization(),\n",
        "    tf.keras.layers.Dense(25, activation = 'softmax', name = 'Output5')\n",
        "])\n",
        "\n",
        "# Define the optimizer and loss function for the model\n",
        "sl_model.compile(loss = 'categorical_crossentropy',\n",
        "                 optimizer='adam',\n",
        "                 metrics=['accuracy'])\n"
      ],
      "execution_count": 0,
      "outputs": []
    },
    {
      "cell_type": "markdown",
      "metadata": {
        "id": "-a44Tt_XNedX",
        "colab_type": "text"
      },
      "source": [
        "###Train the model"
      ]
    },
    {
      "cell_type": "code",
      "metadata": {
        "id": "R6gFGUJmNgqr",
        "colab_type": "code",
        "colab": {}
      },
      "source": [
        "\n",
        "# Fit the model and store the intermediate outputs\n",
        "history = sl_model.fit(train_generator,\n",
        "                       epochs = 10,\n",
        "                       steps_per_epoch = 550,\n",
        "                       validation_data = validation_generator,\n",
        "                       validation_steps = 144, \n",
        "                       verbose = 1)\n"
      ],
      "execution_count": 0,
      "outputs": []
    },
    {
      "cell_type": "markdown",
      "metadata": {
        "id": "TcnKQG7VhJLx",
        "colab_type": "text"
      },
      "source": [
        "###Plot the loss and accuracy of the model w.r.t the number of epochs"
      ]
    },
    {
      "cell_type": "code",
      "metadata": {
        "id": "g_rGvD41ajJc",
        "colab_type": "code",
        "colab": {}
      },
      "source": [
        "\n",
        "# Retrieve a list of results on training and test datasets for each training epoch\n",
        "acc      = history.history['accuracy']\n",
        "val_acc  = history.history['val_accuracy']\n",
        "loss     = history.history['loss']\n",
        "val_loss = history.history['val_loss']\n",
        "\n",
        "# Get the total number of epochs\n",
        "epochs   = range(len(acc))\n",
        "\n",
        "# Plot training and validation accuracy per epoch\n",
        "plt.plot  (epochs, acc)\n",
        "plt.plot  (epochs, val_acc)\n",
        "plt.title ('Training and validation accuracy', color = \"white\")\n",
        "plt.figure()\n",
        "\n",
        "# Plot training and validation loss per epoch\n",
        "plt.plot  (epochs, loss)\n",
        "plt.plot  (epochs, val_loss)\n",
        "plt.title ('Training and validation loss', color = \"white\")\n"
      ],
      "execution_count": 0,
      "outputs": []
    },
    {
      "cell_type": "markdown",
      "metadata": {
        "id": "28-rMUFrhZvF",
        "colab_type": "text"
      },
      "source": [
        "###Get a summary of the model"
      ]
    },
    {
      "cell_type": "code",
      "metadata": {
        "id": "m4RmUAulhccp",
        "colab_type": "code",
        "colab": {}
      },
      "source": [
        "\n",
        "# Print the summary of the model\n",
        "sl_model.summary()\n"
      ],
      "execution_count": 0,
      "outputs": []
    }
  ]
}